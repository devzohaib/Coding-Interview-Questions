{
  "nbformat": 4,
  "nbformat_minor": 0,
  "metadata": {
    "colab": {
      "name": "stringSplosion problem.ipynb",
      "provenance": [],
      "authorship_tag": "ABX9TyMa8hJ6Rx/SpOPkkgyMuaKB",
      "include_colab_link": true
    },
    "kernelspec": {
      "name": "python3",
      "display_name": "Python 3"
    }
  },
  "cells": [
    {
      "cell_type": "markdown",
      "metadata": {
        "id": "view-in-github",
        "colab_type": "text"
      },
      "source": [
        "<a href=\"https://colab.research.google.com/github/devzohaib/Coding-Interview-Questions/blob/master/stringSplosion_problem.ipynb\" target=\"_parent\"><img src=\"https://colab.research.google.com/assets/colab-badge.svg\" alt=\"Open In Colab\"/></a>"
      ]
    },
    {
      "cell_type": "markdown",
      "metadata": {
        "id": "R2diwper5431"
      },
      "source": [
        "#stringSplosion\n",
        "Given a non-empty string like \"Code\" return a string like \"CCoCodCode\".\n",
        "\n",
        "\n",
        "> stringSplosion(\"Code\") → \"CCoCodCode\"\n",
        "\n",
        "> stringSplosion(\"abc\") → \"aababc\"\n",
        "\n",
        "> stringSplosion(\"ab\") → \"aab\"\n",
        "\n",
        " If we carefully analyze the out we can see the pattern that is heppening , let's say input is \"`Code`\" , we need to output like this one .\n",
        " `CCoCodCode` that is \n",
        "\n",
        "\n",
        "1.   C\n",
        "2.   Co\n",
        "3.   Cod\n",
        "4.   Code\n",
        "\n",
        "C + Co + Cod + Code = CCoCodCode.\n",
        "\n",
        "I hope you get the idea what we need to do. \n",
        "lets loop through the len(input) ,during the every iteration we get a slice of input and concat with the empty str.\n",
        "\n",
        "\n",
        "\n"
      ]
    },
    {
      "cell_type": "code",
      "metadata": {
        "colab": {
          "base_uri": "https://localhost:8080/",
          "height": 35
        },
        "id": "RtIO_YT75q-l",
        "outputId": "746b6989-8e4a-4857-8eb8-b0f8ac5ce06e"
      },
      "source": [
        "input = \"Code\"\n",
        "s=str(\"\")\n",
        "#s = s+ input[0]\n",
        "for i in range(1,len(input)+1):\n",
        "  s = s+ input[0:i]\n",
        "  #print(input[0:i])\n",
        "s"
      ],
      "execution_count": 16,
      "outputs": [
        {
          "output_type": "execute_result",
          "data": {
            "application/vnd.google.colaboratory.intrinsic+json": {
              "type": "string"
            },
            "text/plain": [
              "'CCoCodCode'"
            ]
          },
          "metadata": {
            "tags": []
          },
          "execution_count": 16
        }
      ]
    },
    {
      "cell_type": "code",
      "metadata": {
        "id": "f7vCVdyz7f_6"
      },
      "source": [
        ""
      ],
      "execution_count": null,
      "outputs": []
    }
  ]
}