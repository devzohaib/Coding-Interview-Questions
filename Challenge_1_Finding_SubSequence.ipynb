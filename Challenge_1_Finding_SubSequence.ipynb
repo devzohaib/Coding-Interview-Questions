{
  "nbformat": 4,
  "nbformat_minor": 0,
  "metadata": {
    "colab": {
      "name": "Challenge_1_Finding SubSequence.ipynb",
      "provenance": [],
      "authorship_tag": "ABX9TyOyx/i/aVT89AtDZbkBVGTn",
      "include_colab_link": true
    },
    "kernelspec": {
      "name": "python3",
      "display_name": "Python 3"
    }
  },
  "cells": [
    {
      "cell_type": "markdown",
      "metadata": {
        "id": "view-in-github",
        "colab_type": "text"
      },
      "source": [
        "<a href=\"https://colab.research.google.com/github/devzohaib/Coding-Interview-Questions/blob/master/Challenge_1_Finding_SubSequence.ipynb\" target=\"_parent\"><img src=\"https://colab.research.google.com/assets/colab-badge.svg\" alt=\"Open In Colab\"/></a>"
      ]
    },
    {
      "cell_type": "markdown",
      "metadata": {
        "id": "wBrZkbzhPu_y"
      },
      "source": [
        "You can find more details over [here](https://techdevguide.withgoogle.com/paths/foundational/find-longest-word-in-dictionary-that-subsequence-of-given-string#!)"
      ]
    },
    {
      "cell_type": "markdown",
      "metadata": {
        "id": "vjCy4XNHc-_R"
      },
      "source": [
        "#The Challenge _1\n",
        "Given a string `S` and a set of words `D`, find the longest word in `D` that is a subsequence of `S`.\n",
        "\n",
        "Word W is a subsequence of S if some number of characters, possibly zero, can be deleted from S to form W, without reordering the remaining characters.\n",
        "\n",
        "Note: D can appear in any format (list, hash table, prefix tree, etc.\n",
        "\n",
        "For example, given the input of **S = \"abppplee\"** and **D = {\"able\", \"ale\", \"apple\", \"bale\", \"kangaroo\"}** the correct output would be **\"apple\"**\n",
        "\n",
        "The words \"**able**\" and \"**ale**\" are both subsequences of S, but they are shorter than \"apple\".\n",
        "The word \"**bale**\" is not a subsequence of S because even though S has all the right letters, they are not in the right order.\n",
        "The word \"kangaroo\" is the longest word in D, but it isn't a subsequence of S.\n",
        "\n",
        "#Learning objectives\n",
        "This question gives you the chance to practice with algorithms and data structures. It’s also a good example of why careful analysis for Big-O performance is often worthwhile, as is careful exploration of common and worst-case input conditions."
      ]
    },
    {
      "cell_type": "markdown",
      "metadata": {
        "id": "M0u_3_dJdiQd"
      },
      "source": [
        "### hint 1\n",
        "If you’re stuck from the outset: Suppose you were to just check each dictionary word one at a time to see if it's a subsequence. How would you do that?"
      ]
    },
    {
      "cell_type": "code",
      "metadata": {
        "colab": {
          "base_uri": "https://localhost:8080/"
        },
        "id": "f0QUtmP5bvvY",
        "outputId": "85b53eaf-e635-409d-b6c0-4206b63318e7"
      },
      "source": [
        "s='a'\n",
        "d ='abc'\n",
        "print(s in d)"
      ],
      "execution_count": 1,
      "outputs": [
        {
          "output_type": "stream",
          "text": [
            "True\n"
          ],
          "name": "stdout"
        }
      ]
    },
    {
      "cell_type": "code",
      "metadata": {
        "colab": {
          "base_uri": "https://localhost:8080/"
        },
        "id": "708MOzNXe0rv",
        "outputId": "af53617a-0e23-4d62-a65d-280662d62048"
      },
      "source": [
        "s='ab'\n",
        "d ='abc'\n",
        "print(s in d)"
      ],
      "execution_count": 2,
      "outputs": [
        {
          "output_type": "stream",
          "text": [
            "True\n"
          ],
          "name": "stdout"
        }
      ]
    },
    {
      "cell_type": "code",
      "metadata": {
        "colab": {
          "base_uri": "https://localhost:8080/"
        },
        "id": "eQZPSow-e398",
        "outputId": "c8c4d32d-5ac5-404a-90f2-c63b7476367a"
      },
      "source": [
        "s='ac'\n",
        "d ='abc'\n",
        "print(s in d)"
      ],
      "execution_count": 3,
      "outputs": [
        {
          "output_type": "stream",
          "text": [
            "False\n"
          ],
          "name": "stdout"
        }
      ]
    },
    {
      "cell_type": "markdown",
      "metadata": {
        "id": "8rJkWYlnUxyG"
      },
      "source": [
        "First we need came up with logic that we can cheek that if str `s` is sub str of `d`, in the last cell we see that \n",
        "\n",
        "\n",
        "```\n",
        "s = 'ac'\n",
        "d = 'abc'\n",
        "\n",
        "```\n",
        "s is a subsequence of d : NOTE THAT \n",
        "\n",
        "**lets Build the Logic:**\n",
        "\n",
        "\n",
        "1.   1st we need to loop through the all element of s one by one to cheek in the 2nd string d.\n",
        "\n",
        "2.   2nd thing we need to note that we need , to search over next element in 2nd string b , Once we find the first match \n",
        "\n",
        "\n",
        "```\n",
        "s = 'abc'\n",
        "d = 'ammbmmc'\n",
        "i = 0  # we will use i for s string \n",
        "j = 0  # j for 2nd string d.\n",
        "\n",
        "# let say we find a match at the first location \n",
        "s[i] == d[j]:\n",
        "  j = i+1  # Why we did this , we find the first match now we need to search 2nd element of s form the 2nd element of d.\n",
        "\n",
        "```\n",
        "\n",
        "\n",
        "\n",
        "\n",
        "\n",
        "\n",
        "\n",
        "\n",
        "\n",
        "\n"
      ]
    },
    {
      "cell_type": "code",
      "metadata": {
        "id": "etimLWUge6qN",
        "colab": {
          "base_uri": "https://localhost:8080/"
        },
        "outputId": "819abe6a-0d48-480f-df28-9e4703dcd6d6"
      },
      "source": [
        "# we need to come up with logic that the upper code should print true.\n",
        "# because in our problem we need to cosider this a require condition .\n",
        "\n",
        "# let say\n",
        "s = 'axc'\n",
        "d = 'amnbkc'\n",
        "# so s is sub sequence of d\n",
        "x = 0 \n",
        "ls = []\n",
        "for i in range(len(s)):\n",
        "  for j in range(x,len(d)):\n",
        "    if s[i] == d[j]:\n",
        "      ls.append(True)\n",
        "      x += 1\n",
        "      break\n",
        "if len(ls) == len(s):\n",
        "  print(True)\n",
        "else:\n",
        "  print(False)\n",
        "\n"
      ],
      "execution_count": 40,
      "outputs": [
        {
          "output_type": "stream",
          "text": [
            "False\n"
          ],
          "name": "stdout"
        }
      ]
    },
    {
      "cell_type": "code",
      "metadata": {
        "id": "Aghe5VXnJ1zw"
      },
      "source": [
        "# making a funciton to that we can use it  clearly \n",
        "def SubSeq(s,d):\n",
        "  x = 0 \n",
        "  ls = []\n",
        "  for i in range(len(s)):\n",
        "    for j in range(x,len(d)):\n",
        "      if s[i] == d[j]:\n",
        "        ls.append(True)\n",
        "        x = i+1\n",
        "        break\n",
        "  if len(ls) == len(s):\n",
        "    return True\n",
        "  else:\n",
        "    return False\n"
      ],
      "execution_count": 10,
      "outputs": []
    },
    {
      "cell_type": "code",
      "metadata": {
        "colab": {
          "base_uri": "https://localhost:8080/"
        },
        "id": "LvxmvpBTKIt_",
        "outputId": "2f61629b-6136-4727-c1d8-a93ecec8dc32"
      },
      "source": [
        "print(SubSeq('able','abppplee'))\n",
        "print(SubSeq('abc','nnanbhc'))"
      ],
      "execution_count": 11,
      "outputs": [
        {
          "output_type": "stream",
          "text": [
            "True\n",
            "True\n"
          ],
          "name": "stdout"
        }
      ]
    },
    {
      "cell_type": "code",
      "metadata": {
        "colab": {
          "base_uri": "https://localhost:8080/"
        },
        "id": "nmQZCS6yKWMo",
        "outputId": "aeeccf88-7f25-4fb7-d723-fb969cb5d83b"
      },
      "source": [
        "max=0\n",
        "largest_seq = None\n",
        "S = \"abppplee\"\n",
        "D = {\"able\", \"ale\", \"apple\", \"bale\", \"kangaroo\"}\n",
        "for i in D:\n",
        "  _cheek = SubSeq(i,S)\n",
        "  if _cheek == True:\n",
        "    if len(i) > max :\n",
        "      max = len(i)\n",
        "      largest_seq = i;\n",
        "     \n",
        "    print(_cheek,i,len(i))\n",
        "    \n",
        "  "
      ],
      "execution_count": 38,
      "outputs": [
        {
          "output_type": "stream",
          "text": [
            "True apple 5\n",
            "True ale 3\n",
            "True able 4\n"
          ],
          "name": "stdout"
        }
      ]
    },
    {
      "cell_type": "code",
      "metadata": {
        "colab": {
          "base_uri": "https://localhost:8080/",
          "height": 35
        },
        "id": "ysNPBs_kK75N",
        "outputId": "101dae8c-8a9d-4332-9b24-c49f51105d5a"
      },
      "source": [
        "largest_seq"
      ],
      "execution_count": 39,
      "outputs": [
        {
          "output_type": "execute_result",
          "data": {
            "application/vnd.google.colaboratory.intrinsic+json": {
              "type": "string"
            },
            "text/plain": [
              "'apple'"
            ]
          },
          "metadata": {
            "tags": []
          },
          "execution_count": 39
        }
      ]
    },
    {
      "cell_type": "code",
      "metadata": {
        "id": "mPZTqjpZLwCv"
      },
      "source": [
        ""
      ],
      "execution_count": 8,
      "outputs": []
    }
  ]
}